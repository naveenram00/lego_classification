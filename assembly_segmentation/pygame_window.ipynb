{
 "cells": [
  {
   "cell_type": "code",
   "execution_count": 12,
   "metadata": {},
   "outputs": [
    {
     "name": "stdout",
     "output_type": "stream",
     "text": [
      "(291, 128)\n",
      "(522, 104)\n",
      "(458, 313)\n",
      "(813, 153)\n"
     ]
    },
    {
     "ename": "SystemExit",
     "evalue": "",
     "output_type": "error",
     "traceback": [
      "An exception has occurred, use %tb to see the full traceback.\n",
      "\u001b[1;31mSystemExit\u001b[0m\n"
     ]
    },
    {
     "name": "stderr",
     "output_type": "stream",
     "text": [
      "C:\\Users\\tyler.lian\\AppData\\Local\\Continuum\\anaconda3\\lib\\site-packages\\IPython\\core\\interactiveshell.py:2971: UserWarning: To exit: use 'exit', 'quit', or Ctrl-D.\n",
      "  warn(\"To exit: use 'exit', 'quit', or Ctrl-D.\", stacklevel=1)\n"
     ]
    }
   ],
   "source": [
    "import sys\n",
    "import pygame\n",
    "\n",
    "def node_selection():\n",
    "    circ = []\n",
    "    n = 0\n",
    "    # Initialize game and create a screen object.\n",
    "    pygame.init()\n",
    "    screen = pygame.display.set_mode((1200, 800))\n",
    "    pygame.display.set_caption(\"Node Selection\")\n",
    "    WHITE = (255, 255, 255)\n",
    "    BLUE = (0, 0, 255)\n",
    "    screen.fill(WHITE)\n",
    "    # Start the main loop for the game.\n",
    "\n",
    "    while True:\n",
    "        for event in pygame.event.get():\n",
    "            if event.type == pygame.MOUSEBUTTONDOWN: #This checks for the mouse press event\n",
    "                circ.append(pygame.mouse.get_pos()) #Gets the mouse position\n",
    "                pygame.draw.circle(screen, BLUE, (circ[n]), 4, 0) #Draws a circle at the mouse position!\n",
    "                #print(circ[n])\n",
    "                n += 1\n",
    "            if event.type == pygame.QUIT:\n",
    "                pygame.quit()\n",
    "                sys.exit()\n",
    "        # Make the most recently drawn screen visible.\n",
    "        pygame.display.flip()\n",
    "        pygame.display.update()\n",
    "node_selection()"
   ]
  },
  {
   "cell_type": "code",
   "execution_count": null,
   "metadata": {},
   "outputs": [],
   "source": []
  },
  {
   "cell_type": "code",
   "execution_count": null,
   "metadata": {},
   "outputs": [],
   "source": []
  }
 ],
 "metadata": {
  "kernelspec": {
   "display_name": "Python 3",
   "language": "python",
   "name": "python3"
  },
  "language_info": {
   "codemirror_mode": {
    "name": "ipython",
    "version": 3
   },
   "file_extension": ".py",
   "mimetype": "text/x-python",
   "name": "python",
   "nbconvert_exporter": "python",
   "pygments_lexer": "ipython3",
   "version": "3.5.5"
  }
 },
 "nbformat": 4,
 "nbformat_minor": 2
}
