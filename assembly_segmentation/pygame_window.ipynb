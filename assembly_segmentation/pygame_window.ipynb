{
 "cells": [
  {
   "cell_type": "code",
   "execution_count": 4,
   "metadata": {},
   "outputs": [
    {
     "name": "stdout",
     "output_type": "stream",
     "text": [
      "test\n",
      "test\n",
      "test\n",
      "test\n",
      "test\n",
      "test\n",
      "test\n",
      "test\n",
      "test\n",
      "test\n"
     ]
    },
    {
     "ename": "SystemExit",
     "evalue": "",
     "output_type": "error",
     "traceback": [
      "An exception has occurred, use %tb to see the full traceback.\n",
      "\u001b[1;31mSystemExit\u001b[0m\n"
     ]
    },
    {
     "name": "stderr",
     "output_type": "stream",
     "text": [
      "C:\\Users\\tyler.lian\\AppData\\Local\\Continuum\\anaconda3\\lib\\site-packages\\IPython\\core\\interactiveshell.py:2971: UserWarning: To exit: use 'exit', 'quit', or Ctrl-D.\n",
      "  warn(\"To exit: use 'exit', 'quit', or Ctrl-D.\", stacklevel=1)\n"
     ]
    }
   ],
   "source": [
    "import sys\n",
    "import pygame\n",
    "import math\n",
    "nodes = []\n",
    "select_radius = 50\n",
    "objects = []\n",
    "\n",
    "class Node:\n",
    "    def __init__(self,x_init,y_init):\n",
    "        self.x = x_init\n",
    "        self.y = y_init\n",
    "        \n",
    "    def get_pos():\n",
    "        return (self.x, self.y)\n",
    "    \n",
    "    def shift(self, x, y):\n",
    "        self.x += x\n",
    "        self.y += y\n",
    "        \n",
    "    def draw(self, screen):\n",
    "        pygame.draw.circle(screen, (0, 255, 0), (self.x, self.y), 4, 0)\n",
    "\n",
    "    def __repr__(self):\n",
    "        return \"\".join([\"Node(\", str(self.x), \",\", str(self.y), \")\"])\n",
    "\n",
    "\n",
    "def distance(p0, p1):\n",
    "    return math.sqrt((p0[0] - p1[0])**2 + (p0[1] - p1[1])**2)\n",
    "\n",
    "def select_node(pos, screen):\n",
    "    selected = []\n",
    "    for i in range(len(nodes)):\n",
    "        if distance(pos, nodes[i]) < select_radius:\n",
    "            #set selected to nearest node\n",
    "            selected = nodes[i]\n",
    "            #draw marker\n",
    "            pygame.draw.circle(screen, (255, 0, 0), selected, 5, 2)\n",
    "            \n",
    "    if selected == []:\n",
    "        print(nodes)\n",
    "        print(pos)\n",
    "        print(\"selected == []\")\n",
    "        \n",
    "            \n",
    "\n",
    "def node_selection():\n",
    "    # Initialize game and create a screen object.\n",
    "    pygame.init()\n",
    "    screen = pygame.display.set_mode((1200, 800))\n",
    "    modes = [\"create\", \"select\"]\n",
    "    mode_index = 0\n",
    "    select_radius = 50\n",
    "    n = 0\n",
    "    selected = []\n",
    "    pygame.display.set_caption(\"Node Selection\")\n",
    "    WHITE = (255, 255, 255)\n",
    "    BLUE = (0, 0, 255)\n",
    "    screen.fill(WHITE)\n",
    "    \n",
    " # Start the main loop for the game.\n",
    "    while True:\n",
    "        for event in pygame.event.get():\n",
    "            if event.type == pygame.MOUSEBUTTONDOWN: #This checks for the mouse press event\n",
    "                if modes[mode_index % 2] == \"create\":\n",
    "                    objects.append(Node(pygame.mouse.get_pos()[0], pygame.mouse.get_pos()[0])) #Gets the mouse position\n",
    "                    #pygame.draw.circle(screen, BLUE, (nodes[n]), 4, 0) #Draws a circle at the mouse position!\n",
    "                    #print(circ[n])\n",
    "                    #n += 1\n",
    "                    print(\"test\")\n",
    "                                   \n",
    "                if modes[mode_index % 2] == \"select\":\n",
    "                    print(pygame.mouse.get_pos())\n",
    "                    select_node(pygame.mouse.get_pos(), screen)\n",
    "                                   \n",
    "            if event.type == pygame.KEYDOWN:\n",
    "                if event.key == pygame.K_RIGHT:\n",
    "                    mode_index += 1\n",
    "            if event.type == pygame.QUIT:\n",
    "                pygame.quit()\n",
    "                sys.exit()\n",
    "        \n",
    "        #Draw objects\n",
    "        \n",
    "        for object in objects:\n",
    "            #print(screen)\n",
    "            object.draw(screen)\n",
    "        \n",
    "        # Make the most recently drawn screen visible.\n",
    "        pygame.display.flip()\n",
    "        screen.fill((255,255,255))\n",
    "        pygame.display.update()\n",
    "    \n",
    "node_selection()\n",
    "#node_selection()"
   ]
  },
  {
   "cell_type": "code",
   "execution_count": null,
   "metadata": {},
   "outputs": [],
   "source": []
  },
  {
   "cell_type": "code",
   "execution_count": null,
   "metadata": {},
   "outputs": [],
   "source": []
  },
  {
   "cell_type": "code",
   "execution_count": null,
   "metadata": {},
   "outputs": [],
   "source": []
  }
 ],
 "metadata": {
  "kernelspec": {
   "display_name": "Python 3",
   "language": "python",
   "name": "python3"
  },
  "language_info": {
   "codemirror_mode": {
    "name": "ipython",
    "version": 3
   },
   "file_extension": ".py",
   "mimetype": "text/x-python",
   "name": "python",
   "nbconvert_exporter": "python",
   "pygments_lexer": "ipython3",
   "version": "3.5.5"
  }
 },
 "nbformat": 4,
 "nbformat_minor": 2
}
