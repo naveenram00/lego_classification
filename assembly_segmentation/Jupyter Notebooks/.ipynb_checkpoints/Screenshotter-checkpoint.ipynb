{
 "cells": [
  {
   "cell_type": "code",
   "execution_count": 3,
   "metadata": {},
   "outputs": [],
   "source": [
    "import cv2\n",
    "import numpy\n",
    "from PIL import Image, ImageDraw\n",
    "\n",
    "def cropper(nodes):\n",
    "\n",
    "    # read image as RGB and add alpha (transparency)\n",
    "    im = Image.open(\"crop.png\").convert(\"RGBA\")\n",
    "\n",
    "    # convert to numpy (for convenience)\n",
    "    imArray = numpy.asarray(im)\n",
    "\n",
    "    # create mask\n",
    "    polygon = nodes\n",
    "    maskIm = Image.new('L', (imArray.shape[1], imArray.shape[0]), 0)\n",
    "    ImageDraw.Draw(maskIm).polygon(polygon, outline=1, fill=1)\n",
    "    mask = numpy.array(maskIm)\n",
    "\n",
    "    # assemble new image (uint8: 0-255)\n",
    "    newImArray = numpy.empty(imArray.shape,dtype='uint8')\n",
    "\n",
    "    # colors (three first columns, RGB)\n",
    "    newImArray[:,:,:3] = imArray[:,:,:3]\n",
    "\n",
    "    # transparency (4th column)\n",
    "    newImArray[:,:,3] = mask*255\n",
    "\n",
    "    # back to Image from numpy\n",
    "    newIm = Image.fromarray(newImArray, \"RGBA\")\n",
    "    newIm.save(\"out.png\")\n",
    "\n",
    "def run():\n",
    "    \n",
    "    cam = cv2.VideoCapture(0)\n",
    "\n",
    "    cv2.namedWindow(\"Photo Capture\",  cv2.WINDOW_NORMAL)\n",
    "    cv2.resizeWindow(\"Photo Capture\", 1500, 7000)\n",
    "    img_counter = 0\n",
    "\n",
    "    while True:\n",
    "        ret, frame = cam.read()\n",
    "        cv2.imshow(\"Photo Capture\", frame)\n",
    "        if not ret:\n",
    "            break\n",
    "        k = cv2.waitKey(1)\n",
    "\n",
    "        #if k%256 == 27:\n",
    "            # ESC pressed\n",
    "            # print(\"Closing...\")\n",
    "            # break\n",
    "        if k%256 == 32:\n",
    "            # SPACE pressed\n",
    "            img_name = (\"crop.png\")\n",
    "            cv2.imwrite(img_name, frame)\n",
    "            #print(\"{} written!\".format(img_name))\n",
    "            break\n",
    "\n",
    "    cam.release()\n",
    "\n",
    "    cv2.destroyAllWindows()\n",
    "\n",
    "    #cropper()"
   ]
  },
  {
   "cell_type": "code",
   "execution_count": null,
   "metadata": {},
   "outputs": [],
   "source": []
  },
  {
   "cell_type": "code",
   "execution_count": null,
   "metadata": {},
   "outputs": [],
   "source": []
  }
 ],
 "metadata": {
  "kernelspec": {
   "display_name": "Python 3",
   "language": "python",
   "name": "python3"
  },
  "language_info": {
   "codemirror_mode": {
    "name": "ipython",
    "version": 3
   },
   "file_extension": ".py",
   "mimetype": "text/x-python",
   "name": "python",
   "nbconvert_exporter": "python",
   "pygments_lexer": "ipython3",
   "version": "3.5.5"
  }
 },
 "nbformat": 4,
 "nbformat_minor": 2
}
