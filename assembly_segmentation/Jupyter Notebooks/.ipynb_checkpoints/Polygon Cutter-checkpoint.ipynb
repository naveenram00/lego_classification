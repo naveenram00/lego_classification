{
 "cells": [
  {
   "cell_type": "code",
   "execution_count": 3,
   "metadata": {},
   "outputs": [
    {
     "ename": "IndentationError",
     "evalue": "expected an indented block (<ipython-input-3-a9cc331f0573>, line 7)",
     "output_type": "error",
     "traceback": [
      "\u001b[1;36m  File \u001b[1;32m\"<ipython-input-3-a9cc331f0573>\"\u001b[1;36m, line \u001b[1;32m7\u001b[0m\n\u001b[1;33m    im = Image.open(\"crop.png\").convert(\"RGBA\")\u001b[0m\n\u001b[1;37m     ^\u001b[0m\n\u001b[1;31mIndentationError\u001b[0m\u001b[1;31m:\u001b[0m expected an indented block\n"
     ]
    }
   ],
   "source": [
    "import numpy\n",
    "from PIL import Image, ImageDraw\n",
    "\n",
    "def cropper():\n",
    "\n",
    "    # read image as RGB and add alpha (transparency)\n",
    "    im = Image.open(\"crop.png\").convert(\"RGBA\")\n",
    "\n",
    "    # convert to numpy (for convenience)\n",
    "    imArray = numpy.asarray(im)\n",
    "\n",
    "    # create mask\n",
    "    polygon = [(444,203),(623,243),(691,177),(581,26),(482,42)]\n",
    "    maskIm = Image.new('L', (imArray.shape[1], imArray.shape[0]), 0)\n",
    "    ImageDraw.Draw(maskIm).polygon(polygon, outline=1, fill=1)\n",
    "    mask = numpy.array(maskIm)\n",
    "\n",
    "    # assemble new image (uint8: 0-255)\n",
    "    newImArray = numpy.empty(imArray.shape,dtype='uint8')\n",
    "\n",
    "    # colors (three first columns, RGB)\n",
    "    newImArray[:,:,:3] = imArray[:,:,:3]\n",
    "\n",
    "    # transparency (4th column)\n",
    "    newImArray[:,:,3] = mask*255\n",
    "\n",
    "    # back to Image from numpy\n",
    "    newIm = Image.fromarray(newImArray, \"RGBA\")\n",
    "    newIm.save(\"out.png\")"
   ]
  },
  {
   "cell_type": "code",
   "execution_count": null,
   "metadata": {},
   "outputs": [],
   "source": []
  },
  {
   "cell_type": "code",
   "execution_count": null,
   "metadata": {},
   "outputs": [],
   "source": []
  }
 ],
 "metadata": {
  "kernelspec": {
   "display_name": "Python 3",
   "language": "python",
   "name": "python3"
  },
  "language_info": {
   "codemirror_mode": {
    "name": "ipython",
    "version": 3
   },
   "file_extension": ".py",
   "mimetype": "text/x-python",
   "name": "python",
   "nbconvert_exporter": "python",
   "pygments_lexer": "ipython3",
   "version": "3.5.5"
  }
 },
 "nbformat": 4,
 "nbformat_minor": 2
}
