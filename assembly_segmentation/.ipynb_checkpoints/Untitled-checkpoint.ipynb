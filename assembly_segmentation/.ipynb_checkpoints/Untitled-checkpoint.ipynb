{
 "cells": [
  {
   "cell_type": "code",
   "execution_count": null,
   "metadata": {},
   "outputs": [],
   "source": [
    "#find the nearest point from a given point to a large list of points\n",
    "\n",
    "import numpy as np\n",
    "\n",
    "def distance(pt_1, pt_2):\n",
    "    pt_1 = np.array((pt_1[0], pt_1[1]))\n",
    "    pt_2 = np.array((pt_2[0], pt_2[1]))\n",
    "    return np.linalg.norm(pt_1-pt_2)\n",
    "\n",
    "def closest_node(node, nodes):\n",
    "    pt = []\n",
    "    dist = 9999999\n",
    "    for n in nodes:\n",
    "        if distance(node, n) <= dist:\n",
    "            dist = distance(node, n)\n",
    "            pt = n\n",
    "    return pt\n",
    "\n",
    "a = []\n",
    "for x in range(50000):\n",
    "    a.append((np.random.randint(0,1000),np.random.randint(0,1000)))\n",
    "\n",
    "some_pt = (1, 2)\n",
    "\n",
    "closest_node(some_pt, a)"
   ]
  }
 ],
 "metadata": {
  "kernelspec": {
   "display_name": "Python 3",
   "language": "python",
   "name": "python3"
  },
  "language_info": {
   "codemirror_mode": {
    "name": "ipython",
    "version": 3
   },
   "file_extension": ".py",
   "mimetype": "text/x-python",
   "name": "python",
   "nbconvert_exporter": "python",
   "pygments_lexer": "ipython3",
   "version": "3.5.5"
  }
 },
 "nbformat": 4,
 "nbformat_minor": 2
}
