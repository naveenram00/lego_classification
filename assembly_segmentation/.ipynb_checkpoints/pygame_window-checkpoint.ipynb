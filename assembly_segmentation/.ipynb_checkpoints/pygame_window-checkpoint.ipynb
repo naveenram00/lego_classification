{
 "cells": [
  {
   "cell_type": "code",
   "execution_count": 3,
   "metadata": {},
   "outputs": [
    {
     "name": "stdout",
     "output_type": "stream",
     "text": [
      "test\n"
     ]
    },
    {
     "ename": "NameError",
     "evalue": "name 'extra' is not defined",
     "output_type": "error",
     "traceback": [
      "\u001b[1;31m---------------------------------------------------------------------------\u001b[0m",
      "\u001b[1;31mNameError\u001b[0m                                 Traceback (most recent call last)",
      "\u001b[1;32m<ipython-input-3-0d42a93c0eb1>\u001b[0m in \u001b[0;36m<module>\u001b[1;34m()\u001b[0m\n\u001b[0;32m     92\u001b[0m         \u001b[0mpygame\u001b[0m\u001b[1;33m.\u001b[0m\u001b[0mdisplay\u001b[0m\u001b[1;33m.\u001b[0m\u001b[0mupdate\u001b[0m\u001b[1;33m(\u001b[0m\u001b[1;33m)\u001b[0m\u001b[1;33m\u001b[0m\u001b[0m\n\u001b[0;32m     93\u001b[0m \u001b[1;33m\u001b[0m\u001b[0m\n\u001b[1;32m---> 94\u001b[1;33m \u001b[0mnode_selection\u001b[0m\u001b[1;33m(\u001b[0m\u001b[1;33m)\u001b[0m\u001b[1;33m\u001b[0m\u001b[0m\n\u001b[0m\u001b[0;32m     95\u001b[0m \u001b[1;31m#node_selection()\u001b[0m\u001b[1;33m\u001b[0m\u001b[1;33m\u001b[0m\u001b[0m\n",
      "\u001b[1;32m<ipython-input-3-0d42a93c0eb1>\u001b[0m in \u001b[0;36mnode_selection\u001b[1;34m()\u001b[0m\n\u001b[0;32m     85\u001b[0m         \u001b[1;32mfor\u001b[0m \u001b[0mobject\u001b[0m \u001b[1;32min\u001b[0m \u001b[0mobjects\u001b[0m\u001b[1;33m:\u001b[0m\u001b[1;33m\u001b[0m\u001b[0m\n\u001b[0;32m     86\u001b[0m             \u001b[1;31m#print(screen)\u001b[0m\u001b[1;33m\u001b[0m\u001b[1;33m\u001b[0m\u001b[0m\n\u001b[1;32m---> 87\u001b[1;33m             \u001b[0mobject\u001b[0m\u001b[1;33m.\u001b[0m\u001b[0mdraw\u001b[0m\u001b[1;33m(\u001b[0m\u001b[0mscreen\u001b[0m\u001b[1;33m)\u001b[0m\u001b[1;33m\u001b[0m\u001b[0m\n\u001b[0m\u001b[0;32m     88\u001b[0m \u001b[1;33m\u001b[0m\u001b[0m\n\u001b[0;32m     89\u001b[0m         \u001b[1;31m# Make the most recently drawn screen visible.\u001b[0m\u001b[1;33m\u001b[0m\u001b[1;33m\u001b[0m\u001b[0m\n",
      "\u001b[1;32m<ipython-input-3-0d42a93c0eb1>\u001b[0m in \u001b[0;36mdraw\u001b[1;34m(self, screen)\u001b[0m\n\u001b[0;32m     20\u001b[0m     \u001b[1;32mdef\u001b[0m \u001b[0mdraw\u001b[0m\u001b[1;33m(\u001b[0m\u001b[0mself\u001b[0m\u001b[1;33m,\u001b[0m \u001b[0mscreen\u001b[0m\u001b[1;33m)\u001b[0m\u001b[1;33m:\u001b[0m\u001b[1;33m\u001b[0m\u001b[0m\n\u001b[0;32m     21\u001b[0m         \u001b[0mpygame\u001b[0m\u001b[1;33m.\u001b[0m\u001b[0mdraw\u001b[0m\u001b[1;33m.\u001b[0m\u001b[0mcircle\u001b[0m\u001b[1;33m(\u001b[0m\u001b[0mscreen\u001b[0m\u001b[1;33m,\u001b[0m \u001b[1;33m(\u001b[0m\u001b[1;36m233\u001b[0m\u001b[1;33m,\u001b[0m \u001b[1;36m123\u001b[0m\u001b[1;33m,\u001b[0m \u001b[1;36m213\u001b[0m\u001b[1;33m)\u001b[0m\u001b[1;33m,\u001b[0m \u001b[1;33m(\u001b[0m\u001b[0mself\u001b[0m\u001b[1;33m.\u001b[0m\u001b[0mx\u001b[0m\u001b[1;33m,\u001b[0m \u001b[0mself\u001b[0m\u001b[1;33m.\u001b[0m\u001b[0my\u001b[0m\u001b[1;33m)\u001b[0m\u001b[1;33m,\u001b[0m \u001b[1;36m4\u001b[0m\u001b[1;33m,\u001b[0m \u001b[1;36m0\u001b[0m\u001b[1;33m)\u001b[0m\u001b[1;33m\u001b[0m\u001b[0m\n\u001b[1;32m---> 22\u001b[1;33m         \u001b[0mprint\u001b[0m\u001b[1;33m(\u001b[0m\u001b[0mextra\u001b[0m\u001b[1;33m)\u001b[0m\u001b[1;33m\u001b[0m\u001b[0m\n\u001b[0m\u001b[0;32m     23\u001b[0m \u001b[1;33m\u001b[0m\u001b[0m\n\u001b[0;32m     24\u001b[0m     \u001b[1;32mdef\u001b[0m \u001b[0m__repr__\u001b[0m\u001b[1;33m(\u001b[0m\u001b[0mself\u001b[0m\u001b[1;33m)\u001b[0m\u001b[1;33m:\u001b[0m\u001b[1;33m\u001b[0m\u001b[0m\n",
      "\u001b[1;31mNameError\u001b[0m: name 'extra' is not defined"
     ]
    }
   ],
   "source": [
    "import sys\n",
    "import pygame\n",
    "import math\n",
    "nodes = []\n",
    "select_radius = 50\n",
    "objects = []\n",
    "\n",
    "class Node:\n",
    "    def __init__(self,x_init,y_init):\n",
    "        self.x = x_init\n",
    "        self.y = y_init\n",
    "        \n",
    "    def get_pos():\n",
    "        return (self.x, self.y)\n",
    "    \n",
    "    def shift(self, x, y):\n",
    "        self.x += x\n",
    "        self.y += y\n",
    "        \n",
    "    def draw(self, screen):\n",
    "        pygame.draw.circle(screen, (0, 255, 0), (self.x, self.y), 4, 0)\n",
    "\n",
    "    def __repr__(self):\n",
    "        return \"\".join([\"Node(\", str(self.x), \",\", str(self.y), \")\"])\n",
    "\n",
    "\n",
    "def distance(p0, p1):\n",
    "    return math.sqrt((p0[0] - p1[0])**2 + (p0[1] - p1[1])**2)\n",
    "\n",
    "def select_node(pos, screen):\n",
    "    selected = []\n",
    "    for i in range(len(nodes)):\n",
    "        if distance(pos, nodes[i]) < select_radius:\n",
    "            #set selected to nearest node\n",
    "            selected = nodes[i]\n",
    "            #draw marker\n",
    "            pygame.draw.circle(screen, (255, 0, 0), selected, 5, 2)\n",
    "            \n",
    "    if selected == []:\n",
    "        print(nodes)\n",
    "        print(pos)\n",
    "        print(\"selected == []\")\n",
    "        \n",
    "            \n",
    "\n",
    "def node_selection():\n",
    "    # Initialize game and create a screen object.\n",
    "    pygame.init()\n",
    "    screen = pygame.display.set_mode((1200, 800))\n",
    "    modes = [\"create\", \"select\"]\n",
    "    mode_index = 0\n",
    "    select_radius = 50\n",
    "    n = 0\n",
    "    selected = []\n",
    "    pygame.display.set_caption(\"Node Selection\")\n",
    "    WHITE = (255, 255, 255)\n",
    "    BLUE = (0, 0, 255)\n",
    "    screen.fill(WHITE)\n",
    "    \n",
    " # Start the main loop for the game.\n",
    "    while True:\n",
    "        for event in pygame.event.get():\n",
    "            if event.type == pygame.MOUSEBUTTONDOWN: #This checks for the mouse press event\n",
    "                if modes[mode_index % 2] == \"create\":\n",
    "                    objects.append(Node(pygame.mouse.get_pos()[0], pygame.mouse.get_pos()[0])) #Gets the mouse position\n",
    "                    #pygame.draw.circle(screen, BLUE, (nodes[n]), 4, 0) #Draws a circle at the mouse position!\n",
    "                    #print(circ[n])\n",
    "                    #n += 1\n",
    "                    print(\"test\")\n",
    "                                   \n",
    "                if modes[mode_index % 2] == \"select\":\n",
    "                    print(pygame.mouse.get_pos())\n",
    "                    select_node(pygame.mouse.get_pos(), screen)\n",
    "                                   \n",
    "            if event.type == pygame.KEYDOWN:\n",
    "                if event.key == pygame.K_RIGHT:\n",
    "                    mode_index += 1\n",
    "            if event.type == pygame.QUIT:\n",
    "                pygame.quit()\n",
    "                sys.exit()\n",
    "        \n",
    "        #Draw objects\n",
    "        \n",
    "        for object in objects:\n",
    "            #print(screen)\n",
    "            object.draw(screen)\n",
    "        \n",
    "        # Make the most recently drawn screen visible.\n",
    "        pygame.display.flip()\n",
    "        screen.fill((255,255,255))\n",
    "        pygame.display.update()\n",
    "    \n",
    "node_selection()\n",
    "#node_selection()"
   ]
  },
  {
   "cell_type": "code",
   "execution_count": null,
   "metadata": {},
   "outputs": [],
   "source": []
  },
  {
   "cell_type": "code",
   "execution_count": null,
   "metadata": {},
   "outputs": [],
   "source": []
  },
  {
   "cell_type": "code",
   "execution_count": null,
   "metadata": {},
   "outputs": [],
   "source": []
  }
 ],
 "metadata": {
  "kernelspec": {
   "display_name": "Python 3",
   "language": "python",
   "name": "python3"
  },
  "language_info": {
   "codemirror_mode": {
    "name": "ipython",
    "version": 3
   },
   "file_extension": ".py",
   "mimetype": "text/x-python",
   "name": "python",
   "nbconvert_exporter": "python",
   "pygments_lexer": "ipython3",
   "version": "3.5.5"
  }
 },
 "nbformat": 4,
 "nbformat_minor": 2
}
